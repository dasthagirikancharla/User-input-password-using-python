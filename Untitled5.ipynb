{
  "nbformat": 4,
  "nbformat_minor": 0,
  "metadata": {
    "colab": {
      "name": "Untitled5.ipynb",
      "provenance": [],
      "collapsed_sections": []
    },
    "kernelspec": {
      "name": "python3",
      "display_name": "Python 3"
    },
    "language_info": {
      "name": "python"
    }
  },
  "cells": [
    {
      "cell_type": "code",
      "source": [
        "## Q1: Using conditional statement\n",
        "\n",
        "def passwd_check(passwd):\n",
        "    \"\"\"Check if the password is valid.\n",
        "\n",
        "    This function checks the following conditions\n",
        "    if its length is greater than 5 and less than eual to 16\n",
        "    if it has at least one uppercase letter\n",
        "    if it has at least one lowercase letter\n",
        "    if it has at least one numeral\n",
        "    if it has any of the required special symbols\n",
        "    \"\"\"\n",
        "    SpecialSym=['$','@','#']\n",
        "    return_val=\"Valid password\"\n",
        "    if len(passwd) > 5:\n",
        "        print('the length of password should be at least 5 char long')\n",
        "        return_val=True\n",
        "    if len(passwd) <= 16:\n",
        "        print('the length of password should be not be greater than 16')\n",
        "        return_val=True\n",
        "    if not any(char.isdigit() for char in passwd):\n",
        "        print('the password should have at least one numeral')\n",
        "        return_val=False\n",
        "    if not any(char.isupper() for char in passwd):\n",
        "        print('the password should have at least one uppercase letter')\n",
        "        return_val=False\n",
        "    if not any(char.islower() for char in passwd):\n",
        "        print('the password should have at least one lowercase letter')\n",
        "        return_val=False\n",
        "    if not any(char in SpecialSym for char in passwd):\n",
        "        print('the password should have at least one of the symbols $@#')\n",
        "        return_val=False\n",
        "    if return_val:\n",
        "        print('Password is valid')\n",
        "        return_val\n",
        "\n",
        "    else:\n",
        "       print(\"Password is not valid\")\n",
        "\n",
        "passwd=str(input(\"Enter a passowrd\"))\n",
        "passwd_check(passwd)\n"
      ],
      "metadata": {
        "colab": {
          "base_uri": "https://localhost:8080/"
        },
        "id": "W2-x2768r8sj",
        "outputId": "1a907c51-5c2f-4a66-d55e-1444da468624"
      },
      "execution_count": 22,
      "outputs": [
        {
          "output_type": "stream",
          "name": "stdout",
          "text": [
            "Enter a passowrdGirigowd@1997\n",
            "the length of password should be at least 5 char long\n",
            "the length of password should be not be greater than 16\n",
            "Password is valid\n"
          ]
        }
      ]
    },
    {
      "cell_type": "code",
      "source": [
        "## Palindrome using slicing and indexing\n",
        "input_str = input(\"Please enter a string: \").lower()\n",
        "if input_str == input_str[::-1]:\n",
        "    print(\"{} is a palindrome\".format(input_str))\n",
        "else:\n",
        "    print(\"{} is NOT a palindrome\".format(input_str))"
      ],
      "metadata": {
        "colab": {
          "base_uri": "https://localhost:8080/"
        },
        "id": "_LMpb3fFu1bY",
        "outputId": "1c92b36c-5e4a-43c4-8708-c2ad0f24a9cc"
      },
      "execution_count": 23,
      "outputs": [
        {
          "output_type": "stream",
          "name": "stdout",
          "text": [
            "Please enter a string: NAMAN\n",
            "naman is a palindrome\n"
          ]
        }
      ]
    },
    {
      "cell_type": "code",
      "source": [
        "# Usinf for loop\n",
        "a_string =str(input(\"Enter a name\"))\n",
        "def palindrome(string):\n",
        "    string = string.lower().replace(' ', '')\n",
        "    reversed = ''\n",
        "    for i in range(len(string), 0, -1):\n",
        "        reversed += string[i-1]\n",
        "    return string == reversed\n",
        "print(palindrome(a_string))"
      ],
      "metadata": {
        "colab": {
          "base_uri": "https://localhost:8080/"
        },
        "id": "9KfyWp12xKcg",
        "outputId": "c9d5a16a-3e6b-41af-85be-1db5914ca763"
      },
      "execution_count": 28,
      "outputs": [
        {
          "output_type": "stream",
          "name": "stdout",
          "text": [
            "Enter a namenaman\n",
            "True\n"
          ]
        }
      ]
    },
    {
      "cell_type": "code",
      "source": [
        ""
      ],
      "metadata": {
        "id": "7WYmlPIcxyYn"
      },
      "execution_count": null,
      "outputs": []
    }
  ]
}